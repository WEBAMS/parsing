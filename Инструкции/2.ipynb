{
 "cells": [
  {
   "cell_type": "code",
   "execution_count": null,
   "id": "72843521",
   "metadata": {},
   "outputs": [],
   "source": [
    "# На сайте https://scrapingclub.com/exercise/list_basic/?page=1 шесть траниц с товарами, нужно собрать информацию с каждой\n",
    "# Поэтому превратим значение переменной url в f-строку и номер страницы изменим на count и запустим новый цикл:\n",
    "\n",
    "for count in range(1, 7): # Добавили еще один цикл для прохода по всем страницам \n",
    "\n",
    "    url = f\"https://scrapingclub.com/exercise/list_basic/?page={count}\" # f-строка и count\n",
    "\n",
    "    response = requests.get(url)\n",
    "\n",
    "    soup = BeautifulSoup(response.text, 'lxml')\n",
    "\n",
    "    data = soup.find_all(\"div\", class_=\"w-full rounded border\")\n",
    "\n",
    "    for i in data:\n",
    "        name = i.find(\"h4\").text\n",
    "        price = i.find(\"h5\").text\n",
    "        url_img = \"https://scrapingclub.com\" + i.find(\"img\", class_=\"card-img-top img-fluid\").get(\"src\")\n",
    "\n",
    "        print(name + '\\n' + price + '\\n' + url_img + '\\n\\n')"
   ]
  },
  {
   "cell_type": "code",
   "execution_count": null,
   "id": "12a2909e",
   "metadata": {},
   "outputs": [],
   "source": [
    "# Программа парсит информацию с сайта очень быстро, человек так не может.\n",
    "# Чтобы не нагружать сайт и уберечь запросы от блокировки, необходимо замедлить скорость запросов.\n",
    "# Из модуля time импортируем функцию sleep,  она позволяет заморозить запрос на заданное время\n",
    "\n",
    "# Также необходимо сделать запрос похожим на человеческий: передать сайту информацию о своем браузере\n",
    "# Создадим словарь headers с информацией о браузере\n",
    "\n",
    "from time import sleep\n",
    "\n",
    "headers = {\"User-agent\": \"Mozilla/5.0 (Windows NT 10.0; Win64; x64) AppleWebKit/537.36 (KHTML, like Gecko) Chrome/119.0.0.0 Safari/537.36 Edg/119.0.0.0\"\n",
    "}\n",
    "\n",
    "for count in range(1, 7): # Добавили еще один цикл\n",
    "\n",
    "    url = f\"https://scrapingclub.com/exercise/list_basic/?page={count}\"\n",
    "    sleep(3) # Пауза между запросами 3 секунды\n",
    "\n",
    "    response = requests.get(url, headers=headers) # Передаем сайту фальшивый заголовок о своем браузере\n",
    "\n",
    "    soup = BeautifulSoup(response.text, 'lxml')\n",
    "\n",
    "    data = soup.find_all(\"div\", class_=\"w-full rounded border\")\n",
    "\n",
    "    for i in data:\n",
    "        name = i.find(\"h4\").text\n",
    "        price = i.find(\"h5\").text\n",
    "        url_img = \"https://scrapingclub.com\" + i.find(\"img\", class_=\"card-img-top img-fluid\").get(\"src\")\n",
    "\n",
    "        print(name + '\\n' + price + '\\n' + url_img + '\\n\\n')"
   ]
  },
  {
   "cell_type": "code",
   "execution_count": null,
   "id": "e2689a13",
   "metadata": {},
   "outputs": [],
   "source": [
    "# Чтобы получить подробное описание товара, нужно зайти на его страницу\n",
    "\n",
    "# Изменим код. Удалим все, что было ниже \"for i in data:\" и напишем другой код: добавим в цикл переменную \"card_url\"\n",
    "\n",
    "    for i in data:\n",
    "        card_url = i.find(\"a\").get(\"href\") # метод find найдет первый тег \"a\", а метод \"get\" получит атрибут тега \"а\": \"href\"\n",
    "        print(card_url) # Проверим с помощью print\n",
    "        \n",
    "# Получили относительные ссылки формата \"/exercise/list_basic_detail/93086-B/\"\n",
    "# Чтобы получить полные ссылки, с помощью конкатенации прибавляем начальный url адрес сайта \"https://scrapingclub.com\"\n",
    "\n",
    "    for i in data:\n",
    "        card_url = \"https://scrapingclub.com\" + i.find(\"a\").get(\"href\") # добавили начальный url"
   ]
  },
  {
   "cell_type": "code",
   "execution_count": null,
   "id": "bd104f81",
   "metadata": {},
   "outputs": [],
   "source": [
    "# Обработав страницы и получив нужные url адреса, создадим список, куда будут помещаться полученные данные\n",
    "\n",
    "import requests\n",
    "from bs4 import BeautifulSoup\n",
    "from time import sleep\n",
    "\n",
    "list_card_url = [] # Создали пустой список\n",
    "\n",
    "headers = {\"User-agent\": \"Mozilla/5.0 (Windows NT 10.0; Win64; x64) AppleWebKit/537.36 (KHTML, like Gecko) Chrome/119.0.0.0 Safari/537.36 Edg/119.0.0.0\"\n",
    "}\n",
    "\n",
    "for count in range(1, 7): # Добавили еще один цикл\n",
    "    sleep(3)\n",
    "    url = f\"https://scrapingclub.com/exercise/list_basic/?page={count}\"\n",
    "\n",
    "    response = requests.get(url, headers=headers)\n",
    "\n",
    "    soup = BeautifulSoup(response.text, 'lxml')\n",
    "\n",
    "    data = soup.find_all(\"div\", class_=\"w-full rounded border\")\n",
    "\n",
    "    for i in data:\n",
    "        card_url = \"https://scrapingclub.com\" + i.find(\"a\").get(\"href\")\n",
    "        list_card_url.append(card_url) # Добавляем в список полученные адреса"
   ]
  },
  {
   "cell_type": "code",
   "execution_count": null,
   "id": "383909a8",
   "metadata": {},
   "outputs": [],
   "source": [
    "# Переберем полученный список циклом for\n",
    "\n",
    "for card_url in list_card_url:\n",
    "    response = requests.get(card_url, headers=headers)\n",
    "    soup = BeautifulSoup(response.text, 'lxml')\n",
    "    data = soup.find(\"div\", class_=\"my-8 w-full rounded border\") # Укажем где искать\n",
    "    name = data.find(\"h3\", class_=\"card-title\").text # Получаем название товара\n",
    "    price = data.find(\"h4\", class_=\"my-4 card-price\").text # Получаем цену товара\n",
    "    text = data.find(\"p\", class_=\"card-description\").text # Получаем описание товара\n",
    "    url_img = \"https://scrapingclub.com\" + data.find(\"img\").get(\"src\") # Получаем ссылку на картику товара\n",
    "    print(name + \"\\n\" + price + \"\\n\" + text + \"\\n\" + url_img) # Проверяем в терминале корректность выполнения"
   ]
  }
 ],
 "metadata": {
  "kernelspec": {
   "display_name": "Python 3 (ipykernel)",
   "language": "python",
   "name": "python3"
  },
  "language_info": {
   "codemirror_mode": {
    "name": "ipython",
    "version": 3
   },
   "file_extension": ".py",
   "mimetype": "text/x-python",
   "name": "python",
   "nbconvert_exporter": "python",
   "pygments_lexer": "ipython3",
   "version": "3.9.12"
  }
 },
 "nbformat": 4,
 "nbformat_minor": 5
}
