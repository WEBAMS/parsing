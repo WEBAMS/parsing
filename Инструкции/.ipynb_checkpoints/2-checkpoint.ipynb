{
 "cells": [
  {
   "cell_type": "code",
   "execution_count": null,
   "id": "32ddac30",
   "metadata": {},
   "outputs": [],
   "source": [
    "# На сайте https://scrapingclub.com/exercise/list_basic/?page=1 шесть траниц с товарами\n",
    "# Поэтому превратим значение переменной url в f-строку и номер страницы изменим на count и запустим новый цикл:\n",
    "\n",
    "for count in range(1, 7): # Добавили еще один цикл\n",
    "\n",
    "    url = f\"https://scrapingclub.com/exercise/list_basic/?page={count}\" # f-строка и count\n",
    "\n",
    "    response = requests.get(url)\n",
    "\n",
    "    soup = BeautifulSoup(response.text, 'lxml')\n",
    "\n",
    "    data = soup.find_all(\"div\", class_=\"w-full rounded border\")\n",
    "\n",
    "    for i in data:\n",
    "        name = i.find(\"h4\").text\n",
    "        price = i.find(\"h5\").text\n",
    "        url_img = \"https://scrapingclub.com\" + i.find(\"img\", class_=\"card-img-top img-fluid\").get(\"src\")\n",
    "\n",
    "        print(name + '\\n' + price + '\\n' + url_img + '\\n\\n')"
   ]
  },
  {
   "cell_type": "code",
   "execution_count": null,
   "id": "9f1bcb9a",
   "metadata": {},
   "outputs": [],
   "source": [
    "# Программа парсит информацию с сайта очень быстро, человек так не может.\n",
    "# Чтобы не нагружать сайт и уберечь запросы от блокировки, необходимо замедлить скорость запросов.\n",
    "# Из модуля time импортируем функцию sleep,  она позволяет заморозить запрос на заданное время\n",
    "\n",
    "from time import sleep\n",
    "\n",
    "for count in range(1, 7): # Добавили еще один цикл\n",
    "\n",
    "    url = f\"https://scrapingclub.com/exercise/list_basic/?page={count}\" # f-строка и count\n",
    "\n",
    "    response = requests.get(url)\n",
    "\n",
    "    soup = BeautifulSoup(response.text, 'lxml')\n",
    "\n",
    "    data = soup.find_all(\"div\", class_=\"w-full rounded border\")\n",
    "\n",
    "    for i in data:\n",
    "        name = i.find(\"h4\").text\n",
    "        price = i.find(\"h5\").text\n",
    "        url_img = \"https://scrapingclub.com\" + i.find(\"img\", class_=\"card-img-top img-fluid\").get(\"src\")\n",
    "\n",
    "        print(name + '\\n' + price + '\\n' + url_img + '\\n\\n')"
   ]
  }
 ],
 "metadata": {
  "kernelspec": {
   "display_name": "Python 3 (ipykernel)",
   "language": "python",
   "name": "python3"
  },
  "language_info": {
   "codemirror_mode": {
    "name": "ipython",
    "version": 3
   },
   "file_extension": ".py",
   "mimetype": "text/x-python",
   "name": "python",
   "nbconvert_exporter": "python",
   "pygments_lexer": "ipython3",
   "version": "3.9.12"
  }
 },
 "nbformat": 4,
 "nbformat_minor": 5
}
