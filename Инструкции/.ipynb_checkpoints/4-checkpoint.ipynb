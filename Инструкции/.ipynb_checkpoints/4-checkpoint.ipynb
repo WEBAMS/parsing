{
 "cells": [
  {
   "cell_type": "code",
   "execution_count": null,
   "id": "4b3e171a",
   "metadata": {},
   "outputs": [],
   "source": [
    "# Парсинг на сайтах, требующих авторизацию\n",
    "\n",
    "# Создадим новый файл и импортируем в него все необходимые библиотеки\n",
    "\n",
    "from requests import Session\n",
    "from bs4 import BeautifulSoup\n",
    "from time import sleep\n",
    "headers = {\"User-agent\": \"Mozilla/5.0 (Windows NT 10.0; Win64; x64) AppleWebKit/537.36 (KHTML, like Gecko) Chrome/119.0.0.0 Safari/537.36 Edg/119.0.0.0\"}\n",
    "\n",
    "work = Session()  # Заводим переменную и в ней запускаем класс Session\n",
    "\n",
    "work.get(\"https://quotes.toscrape.com/\", headers=headers) # Через метод get класса Session передаем url-адрес и заголовок для браузера\n",
    "\n",
    "work.get(\"https://quotes.toscrape.com/login\", headers=headers) # Переходим на страницу авторизации\n",
    "\n",
    "# Проинспектировав код страницы,находим scrf_token(пример: \"name=\"csrf_token\" value=\"wnydDfsMJiUrPNbokvlSBaxctZFeEpCRqLguKOXWTmjYhVHGzQIA\"\")\n",
    "\n",
    "response = work.get(\"https://quotes.toscrape.com/login\", headers=headers) # Заводим новую переменную response\n",
    "\n",
    "soup = BeautifulSoup(response.text, \"lxml\") # Получаем код страницы в виде текста\n",
    "\n",
    "token = soup.find(\"form\").find(\"input\").get(\"value\") # Заводим переменную и методом find получаем информацию из тегов\n",
    "\n",
    "data = {\"csrf_token\": token, \"username\": \"noname\", \"password\": \"password\"} # Заводим словарь для передачи данных в форму авторизации\n",
    "\n",
    "# POST-запрос не поддерживает перенаправление, поэтому нужно иго разрешить через allow_redirects=True\n",
    "\n",
    "work.post(\"https://quotes.toscrape.com/login\", headers=headers, data=data, allow_redirects=True) # Передаем данные\n",
    "\n",
    "# Присвоим переменной это значение\n",
    "\n",
    "result = work.post(\"https://quotes.toscrape.com/login\", headers=headers, data=data, allow_redirects=True)\n",
    "\n",
    "# Проверить выполнение можно с помощью print(result.text). В появившемся коде должна быть ссылка <a href=\"/logout\">Logout</a>\n",
    "\n"
   ]
  }
 ],
 "metadata": {
  "kernelspec": {
   "display_name": "Python 3 (ipykernel)",
   "language": "python",
   "name": "python3"
  },
  "language_info": {
   "codemirror_mode": {
    "name": "ipython",
    "version": 3
   },
   "file_extension": ".py",
   "mimetype": "text/x-python",
   "name": "python",
   "nbconvert_exporter": "python",
   "pygments_lexer": "ipython3",
   "version": "3.9.12"
  }
 },
 "nbformat": 4,
 "nbformat_minor": 5
}
